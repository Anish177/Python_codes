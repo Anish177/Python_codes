{
 "cells": [
  {
   "cell_type": "markdown",
   "metadata": {},
   "source": [
    "## Trie"
   ]
  },
  {
   "cell_type": "code",
   "execution_count": 3,
   "metadata": {},
   "outputs": [],
   "source": [
    "class TrieNode:\n",
    "    def __init__(self):\n",
    "        self.children = {}\n",
    "        self.end = False\n",
    "        \n",
    "class Trie:\n",
    "    def __init__(self):\n",
    "        self.root = TrieNode()\n",
    "\n",
    "    def insert(self, word: str) -> None:\n",
    "        current = self.root\n",
    "        for i in word:\n",
    "            if i not in current.children:\n",
    "                current.children[i] = TrieNode()\n",
    "            current = current.children[i]\n",
    "        current.end = True\n",
    "\n",
    "    def search(self, word: str) -> bool:\n",
    "        current = self.root\n",
    "        for i in word:\n",
    "            if i not in current.children:\n",
    "                return False\n",
    "            current = current.children[i]\n",
    "        return current.end\n",
    "\n",
    "    def check_prefix(self, prefix: str) -> bool:\n",
    "        current = self.root\n",
    "        for i in prefix:\n",
    "            if i not in current.children:\n",
    "                return False\n",
    "\n",
    "            current = current.children[i]\n",
    "        return True\n",
    "\n",
    "    def get_prefix(self, word):\n",
    "        current = self.root\n",
    "        for i in range(len(word)):\n",
    "            c = word[i]\n",
    "            if word[i] not in current.children:\n",
    "                return word\n",
    "\n",
    "            current = current.children[word[i]]\n",
    "            if current.end:\n",
    "                return word[: i + 1]\n",
    "\n",
    "        return word"
   ]
  },
  {
   "cell_type": "markdown",
   "metadata": {},
   "source": [
    "### 648. Replace Words"
   ]
  },
  {
   "cell_type": "markdown",
   "metadata": {},
   "source": [
    "In English, we have a concept called root, which can be followed by some other word to form another longer word - let's call this word derivative. For example, when the root \"help\" is followed by the word \"ful\", we can form a derivative \"helpful\".\n",
    "\n",
    "Given a dictionary consisting of many roots and a sentence consisting of words separated by spaces, replace all the derivatives in the sentence with the root forming it. If a derivative can be replaced by more than one root, replace it with the root that has the shortest length.\n",
    "\n",
    "Return the sentence after the replacement."
   ]
  },
  {
   "cell_type": "code",
   "execution_count": 3,
   "metadata": {},
   "outputs": [],
   "source": [
    "def replaceWords(dictionary: list[str], sentence: str) -> str:\n",
    "    diction = Trie()\n",
    "    for word in dictionary:\n",
    "        diction.insert(word)\n",
    "    \n",
    "    result = []\n",
    "    for word in sentence.split():\n",
    "        result.append(diction.prefix(word))\n",
    "    \n",
    "    return ' '.join(result)"
   ]
  },
  {
   "cell_type": "code",
   "execution_count": 4,
   "metadata": {},
   "outputs": [
    {
     "data": {
      "text/plain": [
       "'the cat was rat by the bat'"
      ]
     },
     "execution_count": 4,
     "metadata": {},
     "output_type": "execute_result"
    }
   ],
   "source": [
    "replaceWords([\"cat\",\"bat\",\"rat\"], 'the cattle was rattled by the battery')"
   ]
  },
  {
   "cell_type": "markdown",
   "metadata": {},
   "source": [
    "## Segment Tree"
   ]
  },
  {
   "cell_type": "code",
   "execution_count": 1,
   "metadata": {},
   "outputs": [],
   "source": [
    "from typing import List, Optional\n",
    "\n",
    "class SegmentNode:\n",
    "    def __init__(self, start: int, end: int):\n",
    "        self.start = start\n",
    "        self.end = end\n",
    "        self.total = 0\n",
    "        self.min = float('inf')\n",
    "        self.max = float('-inf')\n",
    "        self.left = None\n",
    "        self.right = None\n",
    "\n",
    "class SegmentTree:\n",
    "\n",
    "    def __init__(self, nums: List[int]):\n",
    "        self.root = self._createTree(nums, 0, len(nums) - 1)\n",
    "\n",
    "    def update(self, index: int, val: int) -> None:\n",
    "        return self._updateval(self.root, index, val)\n",
    "\n",
    "    def sumRange(self, left: int, right: int) -> int:\n",
    "        return self._rangeSum(self.root, left, right)\n",
    "    \n",
    "    def minRange(self, left: int, right: int) -> int:\n",
    "        return self._rangeMin(self.root, left, right)\n",
    "\n",
    "    def maxRange(self, left: int, right: int) -> int:\n",
    "        return self._rangeMax(self.root, left, right)\n",
    "        \n",
    "    def _createTree(self, nums: List[int], left: int, right: int) -> Optional[SegmentNode]:\n",
    "        if left > right:\n",
    "            return None\n",
    "        \n",
    "        if left == right:\n",
    "            node = SegmentNode(left, right)\n",
    "            node.total = nums[left]\n",
    "            node.min = nums[left]\n",
    "            node.max = nums[left]\n",
    "            return node\n",
    "        \n",
    "        mid = (left + right) // 2\n",
    "\n",
    "        root = SegmentNode(left, right)\n",
    "        root.left = self._createTree(nums, left, mid)\n",
    "        root.right = self._createTree(nums, mid + 1, right)\n",
    "\n",
    "        root.total = root.left.total + root.right.total\n",
    "        root.min = min(root.left.min, root.right.min)\n",
    "        root.max = max(root.left.max, root.right.max)\n",
    "\n",
    "        return root\n",
    "    \n",
    "    def _updateval(self, root: Optional[SegmentNode], ind: int, val: int) -> int:\n",
    "        if root.start == root.end:\n",
    "            root.total = val\n",
    "            root.min = val\n",
    "            root.max = val\n",
    "            return val\n",
    "        \n",
    "        mid = (root.start + root.end) // 2\n",
    "\n",
    "        if ind <= mid:\n",
    "            self._updateval(root.left, ind, val)\n",
    "        else:\n",
    "            self._updateval(root.right, ind, val)\n",
    "        \n",
    "        root.total = root.left.total + root.right.total\n",
    "        root.min = min(root.left.min, root.right.min)\n",
    "        root.max = max(root.left.max, root.right.max)\n",
    "\n",
    "        return root.total\n",
    "    \n",
    "    def _rangeSum(self, root: Optional[SegmentNode], i: int, j: int) -> int:\n",
    "        if root.start == i and root.end == j:\n",
    "            return root.total\n",
    "        \n",
    "        mid = (root.start + root.end) // 2\n",
    "\n",
    "        if j <= mid:\n",
    "            return self._rangeSum(root.left, i, j)\n",
    "        elif i >= mid + 1:\n",
    "            return self._rangeSum(root.right, i, j)\n",
    "        else:\n",
    "            return self._rangeSum(root.left, i, mid) + self._rangeSum(root.right, mid + 1, j)\n",
    "        \n",
    "    def _rangeMin(self, root: Optional[SegmentNode], i: int, j: int) -> int:\n",
    "        if root.start == i and root.end == j:\n",
    "            return root.min\n",
    "        \n",
    "        mid = (root.start + root.end) // 2\n",
    "\n",
    "        if j <= mid:\n",
    "            return self._rangeMin(root.left, i, j)\n",
    "        elif i >= mid + 1:\n",
    "            return self._rangeMin(root.right, i, j)\n",
    "        else:\n",
    "            return min(self._rangeMin(root.left, i, mid), self._rangeMin(root.right, mid + 1, j))\n",
    "    \n",
    "    def _rangeMax(self, root: Optional[SegmentNode], i: int, j: int) -> int:\n",
    "        if root.start == i and root.end == j:\n",
    "            return root.max\n",
    "        \n",
    "        mid = (root.start + root.end) // 2\n",
    "\n",
    "        if j <= mid:\n",
    "            return self._rangeMax(root.left, i, j)\n",
    "        elif i >= mid + 1:\n",
    "            return self._rangeMax(root.right, i, j)\n",
    "        else:\n",
    "            return max(self._rangeMax(root.left, i, mid), self._rangeMax(root.right, mid + 1, j))\n"
   ]
  },
  {
   "cell_type": "code",
   "execution_count": 6,
   "metadata": {},
   "outputs": [],
   "source": [
    "class SegmentNode:\n",
    "    def __init__(self, start: int, end: int):\n",
    "        self.start = start\n",
    "        self.end = end\n",
    "        self.total = 0\n",
    "        self.min = float('inf')\n",
    "        self.max = float('-inf')\n",
    "        self.left = None\n",
    "        self.right = None\n",
    "\n",
    "class SegmentTree:\n",
    "    def __init__(self, nums: List[int]):\n",
    "        self.nums = nums  # Store the original array\n",
    "        self.root = self._createTree(nums, 0, len(nums) - 1)\n",
    "        self.current_index = 0  # Initialize the iterator index\n",
    "\n",
    "    def update(self, index: int, val: int) -> None:\n",
    "        self.nums[index] = val  # Update the original array\n",
    "        return self._updateval(self.root, index, val)\n",
    "\n",
    "    def sumRange(self, left: int, right: int) -> int:\n",
    "        return self._rangeSum(self.root, left, right)\n",
    "    \n",
    "    def minRange(self, left: int, right: int) -> int:\n",
    "        return self._rangeMin(self.root, left, right)\n",
    "\n",
    "    def maxRange(self, left: int, right: int) -> int:\n",
    "        return self._rangeMax(self.root, left, right)\n",
    "\n",
    "    def _createTree(self, nums: List[int], left: int, right: int) -> Optional[SegmentNode]:\n",
    "        if left > right:\n",
    "            return None\n",
    "        \n",
    "        if left == right:\n",
    "            node = SegmentNode(left, right)\n",
    "            node.total = nums[left]\n",
    "            node.min = nums[left]\n",
    "            node.max = nums[left]\n",
    "            return node\n",
    "        \n",
    "        mid = (left + right) // 2\n",
    "\n",
    "        root = SegmentNode(left, right)\n",
    "        root.left = self._createTree(nums, left, mid)\n",
    "        root.right = self._createTree(nums, mid + 1, right)\n",
    "\n",
    "        root.total = root.left.total + root.right.total\n",
    "        root.min = min(root.left.min, root.right.min)\n",
    "        root.max = max(root.left.max, root.right.max)\n",
    "\n",
    "        return root\n",
    "    \n",
    "    def _updateval(self, root: Optional[SegmentNode], ind: int, val: int) -> int:\n",
    "        if root.start == root.end:\n",
    "            root.total = val\n",
    "            root.min = val\n",
    "            root.max = val\n",
    "            return val\n",
    "        \n",
    "        mid = (root.start + root.end) // 2\n",
    "\n",
    "        if ind <= mid:\n",
    "            self._updateval(root.left, ind, val)\n",
    "        else:\n",
    "            self._updateval(root.right, ind, val)\n",
    "        \n",
    "        root.total = root.left.total + root.right.total\n",
    "        root.min = min(root.left.min, root.right.min)\n",
    "        root.max = max(root.left.max, root.right.max)\n",
    "\n",
    "        return root.total\n",
    "    \n",
    "    def _rangeSum(self, root: Optional[SegmentNode], i: int, j: int) -> int:\n",
    "        if root.start == i and root.end == j:\n",
    "            return root.total\n",
    "        \n",
    "        mid = (root.start + root.end) // 2\n",
    "\n",
    "        if j <= mid:\n",
    "            return self._rangeSum(root.left, i, j)\n",
    "        elif i >= mid + 1:\n",
    "            return self._rangeSum(root.right, i, j)\n",
    "        else:\n",
    "            return self._rangeSum(root.left, i, mid) + self._rangeSum(root.right, mid + 1, j)\n",
    "        \n",
    "    def _rangeMin(self, root: Optional[SegmentNode], i: int, j: int) -> int:\n",
    "        if root.start == i and root.end == j:\n",
    "            return root.min\n",
    "        \n",
    "        mid = (root.start + root.end) // 2\n",
    "\n",
    "        if j <= mid:\n",
    "            return self._rangeMin(root.left, i, j)\n",
    "        elif i >= mid + 1:\n",
    "            return self._rangeMin(root.right, i, j)\n",
    "        else:\n",
    "            return min(self._rangeMin(root.left, i, mid), self._rangeMin(root.right, mid + 1, j))\n",
    "    \n",
    "    def _rangeMax(self, root: Optional[SegmentNode], i: int, j: int) -> int:\n",
    "        if root.start == i and root.end == j:\n",
    "            return root.max\n",
    "        \n",
    "        mid = (root.start + root.end) // 2\n",
    "\n",
    "        if j <= mid:\n",
    "            return self._rangeMax(root.left, i, j)\n",
    "        elif i >= mid + 1:\n",
    "            return self._rangeMax(root.right, i, j)\n",
    "        else:\n",
    "            return max(self._rangeMax(root.left, i, mid), self._rangeMax(root.right, mid + 1, j))\n",
    "    \n",
    "    def __iter__(self):\n",
    "        self.current_index = 0  # Reset the index\n",
    "        return self\n",
    "\n",
    "    def __next__(self):\n",
    "        if self.current_index < len(self.nums):\n",
    "            result = self.nums[self.current_index]\n",
    "            self.current_index += 1\n",
    "            return result\n",
    "        else:\n",
    "            raise StopIteration()"
   ]
  },
  {
   "cell_type": "code",
   "execution_count": 7,
   "metadata": {},
   "outputs": [],
   "source": [
    "segment_tree = SegmentTree(nums= [2,1,3,4,6,1])"
   ]
  },
  {
   "cell_type": "code",
   "execution_count": 8,
   "metadata": {},
   "outputs": [
    {
     "name": "stdout",
     "output_type": "stream",
     "text": [
      "2 1 3 4 6 1\n"
     ]
    }
   ],
   "source": [
    "print(*segment_tree)"
   ]
  },
  {
   "cell_type": "code",
   "execution_count": 49,
   "metadata": {},
   "outputs": [
    {
     "data": {
      "text/plain": [
       "12"
      ]
     },
     "execution_count": 49,
     "metadata": {},
     "output_type": "execute_result"
    }
   ],
   "source": [
    "segment_tree.update(4,1)"
   ]
  },
  {
   "cell_type": "code",
   "execution_count": 50,
   "metadata": {},
   "outputs": [
    {
     "name": "stdout",
     "output_type": "stream",
     "text": [
      "4 4 4\n"
     ]
    }
   ],
   "source": [
    "s = 0\n",
    "for l in range(4, 5):\n",
    "    for r in range(l, 5):\n",
    "        s += segment_tree.sumRange(l - 1, r - 1)"
   ]
  },
  {
   "cell_type": "code",
   "execution_count": 51,
   "metadata": {},
   "outputs": [
    {
     "data": {
      "text/plain": [
       "4"
      ]
     },
     "execution_count": 51,
     "metadata": {},
     "output_type": "execute_result"
    }
   ],
   "source": [
    "s"
   ]
  },
  {
   "cell_type": "markdown",
   "metadata": {},
   "source": [
    "## Binary Tree"
   ]
  },
  {
   "cell_type": "code",
   "execution_count": null,
   "metadata": {},
   "outputs": [],
   "source": []
  },
  {
   "cell_type": "markdown",
   "metadata": {},
   "source": [
    "## Linked List"
   ]
  },
  {
   "cell_type": "code",
   "execution_count": 2,
   "metadata": {},
   "outputs": [],
   "source": [
    "class LinkedNode:\n",
    "    def __init__(self, val = 0, next = None) -> None:\n",
    "        self.val = val\n",
    "        self.next = next\n",
    "        self.end = self\n",
    "\n",
    "    def insert_at_end(self, val):\n",
    "        if not self.val:\n",
    "            self.val = val\n",
    "        else:\n",
    "            self.end.next = LinkedNode(val)\n",
    "            self.end = self.end.next\n",
    "            \n",
    "    def insert_at_beginning(self, val):\n",
    "        if not self.val:\n",
    "            self.val = val\n",
    "            return self\n",
    "        else:\n",
    "            new_node = LinkedNode(val)\n",
    "            new_node.next = self\n",
    "            return new_node\n",
    "    \n",
    "    def insert_at_middle(self, val, ind):\n",
    "        temp = self\n",
    "        for _ in range(ind):\n",
    "            temp = temp.next\n",
    "            if not temp:\n",
    "                return\n",
    "        new = LinkedNode(val)\n",
    "        new.next, temp.next = temp.next, new\n",
    "\n",
    "    def deletenode_byval(self, val):\n",
    "        temp = self\n",
    "        if temp.val == val:\n",
    "            self = self.next\n",
    "            return self\n",
    "        while temp:\n",
    "            if temp.next and temp.next.val == val:\n",
    "                temp.next = temp.next.next\n",
    "                break\n",
    "            temp = temp.next\n",
    "        return self\n",
    "    \n",
    "    def deletenode_byind(self, ind):\n",
    "        pass\n",
    "        \n",
    "    def __iter__(self):\n",
    "        return self._next()\n",
    "\n",
    "    def __next__(self):\n",
    "        return self._next()\n",
    "\n",
    "    def _next(self):\n",
    "        temp = self\n",
    "        while temp:\n",
    "            yield temp.val\n",
    "            temp = temp.next\n",
    "    "
   ]
  },
  {
   "cell_type": "markdown",
   "metadata": {},
   "source": [
    "Topological Sort"
   ]
  },
  {
   "cell_type": "code",
   "execution_count": null,
   "metadata": {},
   "outputs": [],
   "source": [
    "from collections import deque\n",
    "\n",
    "def toposort(adjacency: list[list[int]], n: int) -> list[int]:\n",
    "    graph = [[] for _ in range(n)]\n",
    "    indegrees = [0] * n\n",
    "    for source, dest in adjacency:\n",
    "        graph[source - 1].append(dest - 1)\n",
    "        indegrees[dest - 1] += 1\n",
    "    \n",
    "    queue = deque(node for node, degree in enumerate(indegrees) if not degree)\n",
    "    sortedorder = []\n",
    "\n",
    "    while queue:\n",
    "        current = queue.popleft()\n",
    "        sortedorder.append(current + 1)\n",
    "        for dest in graph[current]:\n",
    "            indegrees[dest] -= 1\n",
    "            if not indegrees[dest]:\n",
    "                queue.append(dest)\n",
    "    \n",
    "    return sortedorder"
   ]
  },
  {
   "cell_type": "code",
   "execution_count": null,
   "metadata": {},
   "outputs": [],
   "source": []
  }
 ],
 "metadata": {
  "kernelspec": {
   "display_name": "Python 3",
   "language": "python",
   "name": "python3"
  },
  "language_info": {
   "codemirror_mode": {
    "name": "ipython",
    "version": 3
   },
   "file_extension": ".py",
   "mimetype": "text/x-python",
   "name": "python",
   "nbconvert_exporter": "python",
   "pygments_lexer": "ipython3",
   "version": "3.11.0"
  }
 },
 "nbformat": 4,
 "nbformat_minor": 2
}
